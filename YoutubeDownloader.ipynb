{
 "cells": [
  {
   "cell_type": "markdown",
   "id": "e6f70faf",
   "metadata": {},
   "source": [
    "# Youtube Downloader\n",
    "#### Created on Mon May 20 19:10:23 2022 \n",
    "\n",
    "#### @author: Deendayal"
   ]
  },
  {
   "cell_type": "markdown",
   "id": "4c1bf21d",
   "metadata": {},
   "source": [
    "We are going to make youtube downloader to download videos, playlist and audio\n",
    "from given link, using PyTube library and Exception handling"
   ]
  },
  {
   "cell_type": "markdown",
   "id": "1ee8446f",
   "metadata": {},
   "source": [
    "##### Importing libraries"
   ]
  },
  {
   "cell_type": "code",
   "execution_count": null,
   "id": "f21ead0b",
   "metadata": {},
   "outputs": [],
   "source": [
    "from pytube import YouTube\n",
    "from pytube import Playlist #for downloading playlist\n",
    "import os"
   ]
  },
  {
   "cell_type": "markdown",
   "id": "59e1b953",
   "metadata": {},
   "source": [
    "##### Function for downloading a video from link.\n",
    "It takes links and path as arguments and downloads video at given path."
   ]
  },
  {
   "cell_type": "code",
   "execution_count": null,
   "id": "aae5a07d",
   "metadata": {},
   "outputs": [],
   "source": [
    "def ytdownload(link, path):\n",
    "    yt = YouTube(link)\n",
    "    print(\"Title: \",yt.title)\n",
    "    \"\"\"\n",
    "    # if you want to print you can have these insights\n",
    "    print(\"Number of views: \",yt.views)\n",
    "    print(\"Length of video: \",yt.length)\n",
    "    print(\"Rating of video: \",yt.rating)\n",
    "    \"\"\"\n",
    "    #Getting the highest resolution possible\n",
    "    ys = yt.streams.get_highest_resolution()\n",
    "\n",
    "    #Starting download\n",
    "    print(\"Downloading...\")\n",
    "    ys.download(path)\n",
    "    print(\"Download completed!!\")"
   ]
  },
  {
   "cell_type": "markdown",
   "id": "7b3533c0",
   "metadata": {},
   "source": [
    "##### Download Audio:\n",
    "It takes link and path as arguments and downloads only audio file at given path."
   ]
  },
  {
   "cell_type": "code",
   "execution_count": null,
   "id": "efa92c78",
   "metadata": {},
   "outputs": [],
   "source": [
    "def DownloadAudio(link, path):\n",
    "    video = YouTube(link).streams.filter(only_audio=True).first()\n",
    "    out_file = video.download(path)\n",
    "    base, ext = os.path.splitext(out_file)\n",
    "    new_file = base + '.mp3'\n",
    "    os.rename(out_file, new_file)\n",
    "    print(yt.title + \" has been successfully downloaded.\")"
   ]
  },
  {
   "cell_type": "markdown",
   "id": "dd980a36",
   "metadata": {},
   "source": [
    "##### Downloading Playlist:\n",
    "It takes link and path as arguments and downloads whole playlist at given path."
   ]
  },
  {
   "cell_type": "code",
   "execution_count": null,
   "id": "290329e8",
   "metadata": {},
   "outputs": [],
   "source": [
    "def PlaylistDownload(link, Path):\n",
    "    playlist = Playlist(link)\n",
    "    print('Number of videos in playlist: %s' % len(playlist.video_urls))\n",
    "    for video in playlist.videos:\n",
    "        yt = YouTube(link)\n",
    "        yt.streams.get_highest_resolution().download(path)\n",
    "        print(yt.title + \" has been successfully downloaded.\")"
   ]
  },
  {
   "cell_type": "markdown",
   "id": "32432208",
   "metadata": {},
   "source": [
    "you can also change the name of your preference. here I am using it to give numbering to names of videos"
   ]
  },
  {
   "cell_type": "code",
   "execution_count": null,
   "id": "5718c211",
   "metadata": {},
   "outputs": [],
   "source": [
    "def downloadPlaylist(link, path):\n",
    "    playlist = Playlist(link)\n",
    "    print('Number of videos in playlist: %s' % len(playlist.video_urls))\n",
    "    i=0\n",
    "    for video_url in playlist.video_urls:\n",
    "        yt = YouTube(video_url)\n",
    "        name = str(i+1)+\". \"+ yt.title+'.mp4'\n",
    "        print(name)\n",
    "        i+=1\n",
    "        yt.streams.get_highest_resolution().download(path, filename=(name))\n",
    "        print(yt.title + \" has been successfully downloaded.\")"
   ]
  },
  {
   "cell_type": "markdown",
   "id": "0a1d09ae",
   "metadata": {},
   "source": [
    "#### Main Function for user interaction:\n",
    "This function plays in a loop. Takes user input as link and path and interact with user to download requested file. also, it handles exceptions raised in this function."
   ]
  },
  {
   "cell_type": "code",
   "execution_count": null,
   "id": "9758554f",
   "metadata": {},
   "outputs": [],
   "source": [
    "while True:\n",
    "    #asking user preferences\n",
    "    start = str(input(\"Want to start YouTube Downloader (y/n): \"))\n",
    "    if start == 'n' or start == 'N':\n",
    "        print('Thank you! See you soon.')\n",
    "        break\n",
    "    if start == 'y' or start == 'Y':\n",
    "        link = str(input(\"Enter youtube link (video/playlist): \"))\n",
    "        path = str(input(\"Enter the destination location of download: \"))\n",
    "        while True:\n",
    "            choice = str(input(\"Want to download a video(v), Audio(a), or Playlist(p)? (enter 'm' to main menu or v/a/p): \\n\"))\n",
    "            if choice == 'v' or choice == 'V': \n",
    "                # when user choice is video.\n",
    "                try:\n",
    "                    ytdownload(link, path)\n",
    "                    print(\"Thank you!\")\n",
    "                except BaseException:\n",
    "                    print(\"Enter valid input (url/path).\")\n",
    "                except OSError:\n",
    "                    print(\"Video Title is not valid to save.\")\n",
    "                break\n",
    "            if choice == 'a' or choice == 'A':\n",
    "                # when user choice is audio.\n",
    "                try:\n",
    "                    DownloadAudio(link, path)\n",
    "                    print(\"Thank you!\")\n",
    "                except BaseException:\n",
    "                    print(\"Enter valid input (url/path).\")\n",
    "                except OSError:\n",
    "                    print(\"Video Title is not valid to save.\")\n",
    "                break\n",
    "            if choice == 'p' or choice == 'P':\n",
    "                #when user choice is playlist.\n",
    "                try:\n",
    "                    downloadPlaylist(link, path)\n",
    "                    print(\"Thank you!\")\n",
    "                except KeyError:\n",
    "                    print(\"Enter valid Playlist url.\")\n",
    "                except OSError:\n",
    "                    print(\"Video Title is not valid to save.\")\n",
    "                break\n",
    "                \n",
    "            if choice == 'm' or choice == 'M':\n",
    "                break\n",
    "            else:\n",
    "                print(\"Invalid input please Try again.\")\n",
    "    else:\n",
    "        print(\"Invalid input please Try again.\")"
   ]
  },
  {
   "cell_type": "markdown",
   "id": "cd8e29fd",
   "metadata": {},
   "source": [
    "### Exceptions"
   ]
  },
  {
   "cell_type": "markdown",
   "id": "f33d75d6",
   "metadata": {},
   "source": [
    "##### KeyError:\n",
    "Playlist extracts URLs of videos and other information from the given link if we input only the video URL then it will raise a KeyError. By this, we can understand there is a problem in input and we can fix this without termination of the program.\n",
    "\n",
    "##### OSError:\n",
    "Sometimes youtube video titles have some extra symbols, and OS doesn't accept some special characters as naming a file name. This will raise an OSError. In this case, we specify file name is not appropriate for the nomenclature of the file in the system.\n",
    "\n",
    "##### BaseException:\n",
    "All exceptions inherit from BaseException, and so it can be used to serve as a wildcard. When we pass the URL of a playlist in the youtube video link the module raises RagexMatchError, Because the passed URL is not a link for the video. Adding BaseException is a better way to handle exceptions raise in the library's specific functions."
   ]
  }
 ],
 "metadata": {
  "kernelspec": {
   "display_name": "Python 3 (ipykernel)",
   "language": "python",
   "name": "python3"
  },
  "language_info": {
   "codemirror_mode": {
    "name": "ipython",
    "version": 3
   },
   "file_extension": ".py",
   "mimetype": "text/x-python",
   "name": "python",
   "nbconvert_exporter": "python",
   "pygments_lexer": "ipython3",
   "version": "3.9.7"
  }
 },
 "nbformat": 4,
 "nbformat_minor": 5
}
