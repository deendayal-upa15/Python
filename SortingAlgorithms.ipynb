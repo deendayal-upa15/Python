{
 "cells": [
  {
   "cell_type": "markdown",
   "id": "2150453c",
   "metadata": {},
   "source": [
    "# Sorting Algorithms\n",
    "\n",
    "##### Created on Sat Jun 11 12:52:18 2022\n",
    "##### @author: Deendayal\n",
    "Important Sorting algorithms in python"
   ]
  },
  {
   "cell_type": "markdown",
   "id": "2e3d1c17",
   "metadata": {},
   "source": [
    "### Selection Sorting\n",
    "Selection sorting first get least value and switch to the first place and then second lowest to second and so on\n",
    "by this sorting is done"
   ]
  },
  {
   "cell_type": "markdown",
   "id": "dd49ca7f",
   "metadata": {},
   "source": [
    "time complexity= O(n^2)"
   ]
  },
  {
   "cell_type": "code",
   "execution_count": 1,
   "id": "c35959fd",
   "metadata": {},
   "outputs": [],
   "source": [
    "def SelectionSort(seq):\n",
    "    #scan slices l[0:len(seq)], l[1:len(seq)]\n",
    "    for start in range(len(seq)):\n",
    "        #search lowest\n",
    "        pos = start\n",
    "        for i in range(len(seq)):\n",
    "            if seq[i]<seq[pos]:\n",
    "                pos = i\n",
    "        seq[start], seq[pos] = seq[pos], seq[start]"
   ]
  },
  {
   "cell_type": "markdown",
   "id": "4a38d2e1",
   "metadata": {},
   "source": [
    "### Insertion Sort"
   ]
  },
  {
   "cell_type": "markdown",
   "id": "b0280553",
   "metadata": {},
   "source": [
    "We put first value in new stack then check second value if it is greater then\n",
    "or less then first term and put it accordingly, then take 3rd value and put in \n",
    "stack accordingly"
   ]
  },
  {
   "cell_type": "markdown",
   "id": "1f0c16a5",
   "metadata": {},
   "source": [
    "it also has O(n^2) but it is very convinient if array/list is sorted already or partially sorted"
   ]
  },
  {
   "cell_type": "code",
   "execution_count": 2,
   "id": "30183aaa",
   "metadata": {},
   "outputs": [],
   "source": [
    "def InsertionSort(seq):\n",
    "    for sliceEnd in range(len(seq)):\n",
    "        #build long sorted slice\n",
    "        #iterate to seq [0,sliceEnd]\n",
    "        #move next element to sorted slice in \n",
    "        #till it is in correct position\n",
    "        pos = sliceEnd\n",
    "        while pos>0 and seq[pos] < seq[pos-1]:\n",
    "            (seq[pos], seq[pos-1]) = (seq[pos-1], seq[pos])\n",
    "            pos = pos-1"
   ]
  },
  {
   "cell_type": "markdown",
   "id": "3eb268cb",
   "metadata": {},
   "source": [
    "Note: Recursion funstions has limit or recursion depth, for this"
   ]
  },
  {
   "cell_type": "code",
   "execution_count": 3,
   "id": "02f2fe7a",
   "metadata": {},
   "outputs": [],
   "source": [
    "import sys\n",
    "sys.setrecursionlimit(10000) #finite value only"
   ]
  },
  {
   "cell_type": "markdown",
   "id": "85ec0cc4",
   "metadata": {},
   "source": [
    "### Merge Sorting\n",
    "we break in two parts and we sort and add them, \n",
    "we compare first values and add to a new array and recursively do for all"
   ]
  },
  {
   "cell_type": "markdown",
   "id": "eab0d47c",
   "metadata": {},
   "source": [
    "It cost extra space because it creates veriables"
   ]
  },
  {
   "cell_type": "markdown",
   "id": "43446e07",
   "metadata": {},
   "source": [
    "O(n log(n))"
   ]
  },
  {
   "cell_type": "markdown",
   "id": "7988b868",
   "metadata": {},
   "source": [
    "It is stable sorting algorithm, preserve the previous order."
   ]
  },
  {
   "cell_type": "code",
   "execution_count": 4,
   "id": "50538485",
   "metadata": {},
   "outputs": [],
   "source": [
    "def Merge(A,B):     #merge A[0:m], B[0,n]\n",
    "    C,m,n = [], len(A), len(B)\n",
    "    i, j = 0,0          #current positions in A,B\n",
    "    while i+j < m+n:        #i+j is number of elements merged so far\n",
    "        if i==m:         #case 1 A is empty\n",
    "            C.append(B[j])\n",
    "            j+=1\n",
    "        elif j ==n:         #Case 2 B is empty\n",
    "            C.append(A[i])\n",
    "            i+=1\n",
    "        #elif A[i]<=B[j] if want same values\n",
    "        elif A[i]<B[j]:         #Case 3 A has lower head\n",
    "            C.append(A[i])\n",
    "            i+=1\n",
    "        elif A[i]>B[j]:         #Case 4 B has lower head\n",
    "            C.append(B[j])\n",
    "            j+=1\n",
    "        # if we dont union\n",
    "        elif A[i]==B[j]:\n",
    "            while A[i]==B[j]:\n",
    "                C.append(A[i])\n",
    "                j+=1\n",
    "                i+=1\n",
    "        \n",
    "    return C"
   ]
  },
  {
   "cell_type": "code",
   "execution_count": 5,
   "id": "b2b105f0",
   "metadata": {},
   "outputs": [],
   "source": [
    "def MergeSort(A, left, right):\n",
    "    #sort the slice A[left:right]\n",
    "    if right-left <=1:      #base case\n",
    "        return(A[left:right])\n",
    "    if right-left>1:        #recursive call\n",
    "        mid = (left+right)//2\n",
    "        L = MergeSort(A, left, mid)\n",
    "        R = MergeSort(A, mid, right)\n",
    "        \n",
    "        return Merge(L, R)"
   ]
  },
  {
   "cell_type": "markdown",
   "id": "2c4bad3f",
   "metadata": {},
   "source": [
    "### Quick Sort\n",
    "We select a pivot (like a median value) and compare every element if it is less\n",
    "then pivot we send them to left otherwise it will be in right part end sort both\n",
    "parts recursively"
   ]
  },
  {
   "cell_type": "markdown",
   "id": "9d4cc6b5",
   "metadata": {},
   "source": [
    "Python l.sort() uses quicksort mostly."
   ]
  },
  {
   "cell_type": "markdown",
   "id": "883f6955",
   "metadata": {},
   "source": [
    "O(n log(n)) but this will change previous order, mix all elements and then sort\n",
    "so this is not a stable type of sort"
   ]
  },
  {
   "cell_type": "code",
   "execution_count": 6,
   "id": "4b310ca5",
   "metadata": {},
   "outputs": [],
   "source": [
    "def QuickSort(A, l, r):     #Sort A[l,r]\n",
    "    if r-l <=1:     #base case\n",
    "        return ()\n",
    "    #partition with respect to pivot, a[l]\n",
    "    yellow = l+1\n",
    "    \n",
    "    for green in range(l+1,r):\n",
    "        if A[green] <= A[l]:\n",
    "            A[yellow], A[green] = A[green], A[yellow]\n",
    "            yellow +=1\n",
    "    #move pivot into place\n",
    "    A[l], A[yellow-1] = A[yellow-1], A[l]\n",
    "    \n",
    "    QuickSort(A, l, yellow-1)   #recursive calls\n",
    "    QuickSort(A, yellow, r)"
   ]
  },
  {
   "cell_type": "markdown",
   "id": "62508704",
   "metadata": {},
   "source": [
    "Note: if pivot is max or min then this will fail/takes larger amount of time (worst case is array is sorted, O(n^2)). for that case we take pivot a random value so it will randomize pivot point and chances of having max or min value as pivot is much less ~ 0"
   ]
  },
  {
   "cell_type": "markdown",
   "id": "6f55af46",
   "metadata": {},
   "source": [
    "(we also know insert sorting works better in sorted case)"
   ]
  },
  {
   "cell_type": "markdown",
   "id": "5fa12499",
   "metadata": {},
   "source": [
    "for solving this we will randomize list with random module, and randomize function."
   ]
  },
  {
   "cell_type": "code",
   "execution_count": 7,
   "id": "1cde99a2",
   "metadata": {},
   "outputs": [],
   "source": [
    "import random\n",
    "def randomize(l):\n",
    "    for i in range(len(l)//2):\n",
    "        j=random.randrange(0,len(l),1)\n",
    "        k=random.randrange(0,len(l),1)\n",
    "        l[j], l[k] = l[k], l[j]"
   ]
  },
  {
   "cell_type": "markdown",
   "id": "4b186391",
   "metadata": {},
   "source": [
    "### End of script"
   ]
  }
 ],
 "metadata": {
  "kernelspec": {
   "display_name": "Python 3 (ipykernel)",
   "language": "python",
   "name": "python3"
  },
  "language_info": {
   "codemirror_mode": {
    "name": "ipython",
    "version": 3
   },
   "file_extension": ".py",
   "mimetype": "text/x-python",
   "name": "python",
   "nbconvert_exporter": "python",
   "pygments_lexer": "ipython3",
   "version": "3.9.7"
  }
 },
 "nbformat": 4,
 "nbformat_minor": 5
}
