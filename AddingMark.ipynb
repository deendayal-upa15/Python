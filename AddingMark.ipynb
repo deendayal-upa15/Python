{
 "cells": [
  {
   "cell_type": "markdown",
   "id": "01b39b0e",
   "metadata": {},
   "source": [
    "# Digital Marking\n",
    "#### Created on Sun Jun 5 22:33:16 2022\n",
    "#### @author: Deendayal\n",
    "##### Source code: https://github.com/deendayal-upa15/Python/blob/main/AddingMark.py\n",
    "\n",
    "This Programme Add Logos/signature/name to existing image/images."
   ]
  },
  {
   "cell_type": "markdown",
   "id": "c9c19dca",
   "metadata": {},
   "source": [
    "##### Importing Libraries"
   ]
  },
  {
   "cell_type": "code",
   "execution_count": 3,
   "id": "f137deac",
   "metadata": {},
   "outputs": [],
   "source": [
    "from PIL import Image, ImageDraw, ImageFont\n",
    "import os"
   ]
  },
  {
   "cell_type": "markdown",
   "id": "ddaba16a",
   "metadata": {},
   "source": [
    "Image, for Manipulating Images"
   ]
  },
  {
   "cell_type": "markdown",
   "id": "f3f1b386",
   "metadata": {},
   "source": [
    "ImageDraw for drawing shapes and marks"
   ]
  },
  {
   "cell_type": "markdown",
   "id": "9f4ed714",
   "metadata": {},
   "source": [
    "ImageFont for adding font and texts"
   ]
  },
  {
   "cell_type": "markdown",
   "id": "39322fd0",
   "metadata": {},
   "source": [
    "##### Selecting logo file\n",
    "If you want to add logo to an image"
   ]
  },
  {
   "cell_type": "code",
   "execution_count": null,
   "id": "fd725eb6",
   "metadata": {},
   "outputs": [],
   "source": [
    "logoPath = \"Sign.jpg\"\n",
    "logo = Image.open(logoPath) #open logo/image\n",
    "logo1 = logo.resize((216, 114))\n",
    "logo1.save(\"logo.jpg\")"
   ]
  },
  {
   "cell_type": "markdown",
   "id": "51558778",
   "metadata": {},
   "source": [
    "You can take input or just write it down in code. Resize image as you want."
   ]
  },
  {
   "cell_type": "markdown",
   "id": "5c1b4b7c",
   "metadata": {},
   "source": [
    "### Function to add logo:\n",
    "*image.paste(logo, position)* will add logo to image. you can directly use it while writing program."
   ]
  },
  {
   "cell_type": "code",
   "execution_count": null,
   "id": "07d9180f",
   "metadata": {},
   "outputs": [],
   "source": [
    "def logoAdd(image,logo):\n",
    "    image.paste(logo, (10,10))\n",
    "    return image"
   ]
  },
  {
   "cell_type": "markdown",
   "id": "c1bf4747",
   "metadata": {},
   "source": [
    "### Function to add Text or mark image:\n",
    "It will take input as image, text and font (default is arial, type name of .ttf file). It gives image in return."
   ]
  },
  {
   "cell_type": "code",
   "execution_count": 7,
   "id": "ac6fcc26",
   "metadata": {},
   "outputs": [],
   "source": [
    "def textAdd(image, text, textfont='arial.ttf'):\n",
    "    ImWidth, ImHeight = image.size\n",
    "    draw = ImageDraw.Draw(image) # for drawing and text\n",
    "    fontsFolder = 'FONT_FOLDER' # e.g. ‘/Library/Fonts'\n",
    "    fontSize = int((45/4624)*ImWidth)\n",
    "    Font = ImageFont.truetype(os.path.join(fontsFolder, textfont), fontSize)\n",
    "    print(\"adding signature text...\")\n",
    "    draw.text((10,10), text, fill='white', font=Font)\n",
    "    return image"
   ]
  },
  {
   "cell_type": "markdown",
   "id": "cfe01fcb",
   "metadata": {},
   "source": [
    "*ImageDraw.Draw(image)* makes a drawing canvas to write text. choose font library in *fontsFolder*. We get desired font in *Font* in preferable font size and write text with *draw.text(position, text, fill, font)* and return image. (fill and font have default value as *None*.)"
   ]
  },
  {
   "cell_type": "markdown",
   "id": "4e791475",
   "metadata": {},
   "source": [
    "**Here is a hack. Images can have different sizes in that case, if we are having same font size for all images may lead us to destruction of image. We use font size according to width of image, fontSize = (45/4624)*ImWidth.**"
   ]
  },
  {
   "cell_type": "markdown",
   "id": "b53ce51d",
   "metadata": {},
   "source": [
    "### ImageDraw:\n",
    "With ImageDraw we can draw lines, circles and other shapes. We can use *draw.line([points to join], fill)* to draw line between points. "
   ]
  },
  {
   "cell_type": "markdown",
   "id": "86649984",
   "metadata": {},
   "source": [
    "Just like line we can also draw **rectangle(points,fill=None, outline=None, width=1); ellipse(); polygon()**."
   ]
  },
  {
   "cell_type": "markdown",
   "id": "2f2a4755",
   "metadata": {},
   "source": [
    "### Main function (single image):\n",
    "Takes path, filename and text from the user. checks path is correct or not with exception handling. If a file exists in folder then modify that image and save it as *file_modified.png*. else shows file doesn't exist."
   ]
  },
  {
   "cell_type": "code",
   "execution_count": 8,
   "id": "368e722f",
   "metadata": {},
   "outputs": [
    {
     "name": "stdout",
     "output_type": "stream",
     "text": [
      "Press y to start... \n",
      "y\n",
      "Enter file Path: E:\\Dinesh\\images\n",
      "Enter Image name(with extention (.jpg/.png)): 14033.jpg\n",
      "adding signature text...\n",
      "Press y to start... \n",
      "n\n",
      "See you Soon...\n"
     ]
    }
   ],
   "source": [
    "while True:\n",
    "    start = str(input(\"Press y to start... \\n\"))\n",
    "    if start == 'y' or start == 'Y':\n",
    "        filePath = str(input(\"Enter file Path: \"))\n",
    "        try:\n",
    "            os.chdir(filePath)\n",
    "        except FileNotFoundError:  \n",
    "            print(\"Input is invalid. Please Enter valid path.\")\n",
    "            continue\n",
    "        filename = str(input(\"Enter Image name(with extention (.jpg/.png)): \"))\n",
    "        if filename in os.listdir('.'):\n",
    "            os.makedirs('Modified', exist_ok=True) # for saving modified file\n",
    "            text = str(input(\"Enter text/name you want to add: \"))\n",
    "            img =Image.open(filename)\n",
    "            CopyImg = img.copy()\n",
    "\n",
    "            CopyImg2 = textAdd(CopyImg, text)\n",
    "\n",
    "            #saving file\n",
    "            name = filename[:-4] + \"_modified.png\"\n",
    "            CopyImg2.save(os.path.join('Modified', name))\n",
    "        else:\n",
    "            print(\"File doesn't exist in given folder. if you typed wrong please type with extension.\")\n",
    "        \n",
    "    else:\n",
    "        print('See you Soon...')\n",
    "        break"
   ]
  },
  {
   "cell_type": "markdown",
   "id": "c2273f9f",
   "metadata": {},
   "source": [
    "Note: You can also save image as jpg. just replace png with jpg."
   ]
  },
  {
   "cell_type": "markdown",
   "id": "25c69ad0",
   "metadata": {},
   "source": [
    "###### FileNotFoundError:\n",
    "If file doesn't exist (or invalid path) os raises this error."
   ]
  },
  {
   "cell_type": "markdown",
   "id": "d7b5db1a",
   "metadata": {},
   "source": [
    "*os.makedirs('Modified', exist_ok=True)* makes new folder to save modified images, it skips if folder already exists."
   ]
  },
  {
   "cell_type": "markdown",
   "id": "e6264d1b",
   "metadata": {},
   "source": [
    "### Main function (multiple images):\n",
    "Takes path and text from the user. checks path is correct or not with exception handling. check every file if an image or not then modify that file and save it as *file_modified.png*. else shows file doesn't exist."
   ]
  },
  {
   "cell_type": "code",
   "execution_count": null,
   "id": "1b3f944f",
   "metadata": {},
   "outputs": [],
   "source": [
    "while True:\n",
    "    start = str(input(\"Press y to start... \\n\"))\n",
    "    if start == 'y' or start == 'Y':\n",
    "        filePath = str(input(\"Enter file Path: \"))\n",
    "        try:\n",
    "            os.chdir(filePath)\n",
    "            os.makedirs('Modified', exist_ok=True) # for saving modified file\n",
    "        except FileNotFoundError:  \n",
    "            print(\"Input is invalid. Please Enter valid path.\")\n",
    "            continue\n",
    "        text = str(input(\"Enter text/name you want to add: \"))\n",
    "        for filename in os.listdir('.'):\n",
    "            #filtering image files\n",
    "            if not (filename.endswith('.png') or filename.endswith('.jpg')): #or filename == logofile (if logo is in same folder)\n",
    "                continue #pass if file is not image file\n",
    "                \n",
    "            #open file\n",
    "            img =Image.open(filename) \n",
    "            CopyImg = img.copy() #making a copy, it doesn't effect original image.\n",
    "\n",
    "            CopyImg2 = textAdd(CopyImg, text) #calling textAdding function and saving file in second copy\n",
    "\n",
    "            #saving file\n",
    "            name = filename[:-4] + \"_modified.png\"  # modifying name\n",
    "            CopyImg2.save(os.path.join('Modified', name))\n",
    "        \n",
    "    else:\n",
    "        print('See you Soon...')\n",
    "        break"
   ]
  },
  {
   "cell_type": "markdown",
   "id": "801dbeaf",
   "metadata": {},
   "source": [
    "### End of Script"
   ]
  }
 ],
 "metadata": {
  "kernelspec": {
   "display_name": "Python 3 (ipykernel)",
   "language": "python",
   "name": "python3"
  },
  "language_info": {
   "codemirror_mode": {
    "name": "ipython",
    "version": 3
   },
   "file_extension": ".py",
   "mimetype": "text/x-python",
   "name": "python",
   "nbconvert_exporter": "python",
   "pygments_lexer": "ipython3",
   "version": "3.9.7"
  }
 },
 "nbformat": 4,
 "nbformat_minor": 5
}
